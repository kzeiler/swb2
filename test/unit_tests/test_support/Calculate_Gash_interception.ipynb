{
 "cells": [
  {
   "cell_type": "code",
   "execution_count": 15,
   "metadata": {},
   "outputs": [],
   "source": [
    "from math import log\n",
    "import numpy as np"
   ]
  },
  {
   "cell_type": "code",
   "execution_count": 17,
   "metadata": {},
   "outputs": [],
   "source": [
    "rainfall = np.array( (0., 0.0057, 0., 0., 0., 0., 0., 0.0189, 0.0057 ,0.0214 ,0.1121,    \\\n",
    "                      0.2172, 0.0082, 0., 0.0007, 0., 0.0007, 0., 0., 0. ) )\n",
    "fog               = rainfall * 0.0\n",
    "E_div_P           = 0.5\n",
    "canopy_fraction   = 0.58\n",
    "canopy_storage    = 0.05\n",
    "trunk_storage     = 0.01\n",
    "stemflow_fraction = 0.04  # i.e. trunk fraction"
   ]
  },
  {
   "cell_type": "code",
   "execution_count": 19,
   "metadata": {},
   "outputs": [
    {
     "data": {
      "text/plain": [
       "array([0., 0., 0., 0., 0., 0., 0., 0., 0., 0., 0., 0., 0., 0., 0., 0., 0.,\n",
       "       0., 0., 0.])"
      ]
     },
     "execution_count": 19,
     "metadata": {},
     "output_type": "execute_result"
    }
   ],
   "source": [
    "fog"
   ]
  },
  {
   "cell_type": "markdown",
   "metadata": {},
   "source": [
    "Implementation of Gash model from the original Hawaii Water Budget Model source code:\n",
    "```\n",
    "    dpnet=0.d0\n",
    "    dcanint=0.d0\n",
    "    if(fogeff(ilu(ip)).gt.0.5.and.drf.gt.0.0001)then\n",
    "      if(icim.eq.2)then\n",
    "            if(ifm.eq.1)then\n",
    "                ceint2=ceint(1)\n",
    "            elseif(ifm.eq.2)then\n",
    "                if(drfy+dfogy.ge.ceint(2))then\n",
    "                    ceint2=ceint(3)\n",
    "                elseif(drfy+dfogy.ge.ceint(4))then\n",
    "                    ceint2=ceint(5)\n",
    "                else\n",
    "                    ceint2=1.\n",
    "                endif\n",
    "            elseif(ifm.eq.3)then\n",
    "                ceint2=exp(ceint(6)*(drfy+dfogy))\n",
    "            else\n",
    "                ceint2=1.\n",
    "            endif\n",
    "        Psat=-(cancap(ilu(ip))/(canfrac(ip)*cerf(ip)))*\n",
    "1               log((1-cerf(ip))/(1-(1-ceint2)*cerf(ip)))\n",
    "        if(drf+dfog.lt.Psat)then\n",
    "           dcanint=canfrac(ip)*(drf+dfog)\n",
    "        elseif(drf+dfog.gt.tcap(ilu(ip))/tfrac(ip))then\n",
    "           dcanint=canfrac(ip)*Psat+canfrac(ip)*cerf(ip)*\n",
    "1                     (drf+dfog-Psat)+tcap(ilu(ip))\n",
    "        else\n",
    "           dcanint=canfrac(ip)*Psat+canfrac(ip)*cerf(ip)*\n",
    "1                     (drf+dfog-Psat)+tfrac(ip)*(drf+dfog)\n",
    "        endif\n",
    "        dcanint=gashcal*dcanint\n",
    "        dpnet=drf+dfog-dcanint\n",
    "      elseif(icim.eq.3)then\n",
    "        dpnet=(drf+dfog)*(constAC*exp(constBD/(drf+dfog)))\n",
    "        dcanint=drf+dfog+dpnet\n",
    "      else\n",
    "        dpnet=frg(m,irfzone(ip),jfr(m,irfzone(ip),i),k)*pnet\n",
    "      endif\n",
    "    else\n",
    "      dpnet=drf+dfog\n",
    "    endif\n",
    "```\n",
    "\n",
    "The Oahu input files containing interception coefficients (`gash.prn`) looks like this:\n",
    "```\n",
    "       1       1.0       0       0       0       0       0      1.0\n",
    "```\n",
    "The HWB Gash method code in the Oahu case is '1' (`ifm` in the code snippet above), and the constant 'a' has a value of 1.0 (`ceint(1)` in code snippet above)."
   ]
  },
  {
   "cell_type": "code",
   "execution_count": 10,
   "metadata": {},
   "outputs": [],
   "source": [
    "def precip_at_saturation(canopy_capacity, canopy_fraction, canopy_E_to_P):\n",
    "    Psat = -(canopy_capacity / (canopy_fraction * canopy_E_to_P)) * log(1.0 - canopy_E_to_P)\n",
    "    return Psat"
   ]
  },
  {
   "cell_type": "code",
   "execution_count": 28,
   "metadata": {},
   "outputs": [],
   "source": [
    "def gash_interception(canopy_fraction, Psat, canopy_E_to_P, rainfall, fog, trunk_fraction, trunk_capacity):\n",
    "    \n",
    "    rainfall_plus_fog = rainfall + fog\n",
    "    \n",
    "    if rainfall_plus_fog < Psat:\n",
    "        can_int = canopy_fraction * rainfall_plus_fog \n",
    "    elif rainfall_plus_fog > (trunk_capacity / trunk_fraction):\n",
    "        can_int = canopy_fraction * Psat + canopy_fraction * canopy_E_to_P * (rainfall_plus_fog - Psat)   \\\n",
    "                  + trunk_capacity\n",
    "    else:\n",
    "        can_int = canopy_fraction * Psat + canopy_fraction * canopy_E_to_P * (rainfall_plus_fog - Psat)   \\\n",
    "                  + trunk_fraction * rainfall_plus_fog\n",
    "    \n",
    "    return can_int"
   ]
  },
  {
   "cell_type": "code",
   "execution_count": 29,
   "metadata": {},
   "outputs": [],
   "source": [
    "Psat = precip_at_saturation(canopy_storage,canopy_fraction,E_div_P)"
   ]
  },
  {
   "cell_type": "code",
   "execution_count": 35,
   "metadata": {},
   "outputs": [],
   "source": [
    "interception =  [gash_interception( canopy_fraction, Psat, E_div_P, P, F, stemflow_fraction, trunk_storage ) for P,F in zip(rainfall,fog)]"
   ]
  },
  {
   "cell_type": "code",
   "execution_count": 36,
   "metadata": {},
   "outputs": [
    {
     "data": {
      "text/plain": [
       "[0.0,\n",
       " 0.003306,\n",
       " 0.0,\n",
       " 0.0,\n",
       " 0.0,\n",
       " 0.0,\n",
       " 0.0,\n",
       " 0.010962,\n",
       " 0.003306,\n",
       " 0.012411999999999998,\n",
       " 0.06501799999999999,\n",
       " 0.10633335902799726,\n",
       " 0.004756,\n",
       " 0.0,\n",
       " 0.00040599999999999995,\n",
       " 0.0,\n",
       " 0.00040599999999999995,\n",
       " 0.0,\n",
       " 0.0,\n",
       " 0.0]"
      ]
     },
     "execution_count": 36,
     "metadata": {},
     "output_type": "execute_result"
    }
   ],
   "source": [
    "interception"
   ]
  },
  {
   "cell_type": "code",
   "execution_count": null,
   "metadata": {},
   "outputs": [],
   "source": []
  }
 ],
 "metadata": {
  "kernelspec": {
   "display_name": "Python 3.6 (Anaconda)",
   "language": "python",
   "name": "base"
  },
  "language_info": {
   "codemirror_mode": {
    "name": "ipython",
    "version": 3
   },
   "file_extension": ".py",
   "mimetype": "text/x-python",
   "name": "python",
   "nbconvert_exporter": "python",
   "pygments_lexer": "ipython3",
   "version": "3.6.5"
  }
 },
 "nbformat": 4,
 "nbformat_minor": 2
}
