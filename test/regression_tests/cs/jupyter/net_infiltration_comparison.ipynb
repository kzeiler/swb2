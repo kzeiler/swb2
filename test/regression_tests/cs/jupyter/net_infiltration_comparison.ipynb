{
 "cells": [
  {
   "cell_type": "markdown",
   "metadata": {},
   "source": [
    "# _potential recharge:_ Comparison between SWB 1.0 and SWB 2.0 #"
   ]
  },
  {
   "cell_type": "markdown",
   "metadata": {},
   "source": [
    "## Preliminaries ##"
   ]
  },
  {
   "cell_type": "markdown",
   "metadata": {},
   "source": [
    "### Bring in Python modules ###"
   ]
  },
  {
   "cell_type": "code",
   "execution_count": 1,
   "metadata": {
    "scrolled": false
   },
   "outputs": [],
   "source": [
    "%matplotlib inline\n",
    "\n",
    "import os\n",
    "import gdal\n",
    "import matplotlib.pyplot as plt\n",
    "import matplotlib.colors as colors\n",
    "from netCDF4 import Dataset as netcdf_dataset\n",
    "import numpy as np\n",
    "import numpy.ma as ma\n",
    "import pandas as pd\n",
    "%run plot_and_table_functions.py"
   ]
  },
  {
   "cell_type": "markdown",
   "metadata": {},
   "source": [
    "### Set variables that determine the model output being compared ###"
   ]
  },
  {
   "cell_type": "code",
   "execution_count": 2,
   "metadata": {
    "scrolled": false
   },
   "outputs": [],
   "source": [
    "SWB2_param_name             = \"net_infiltration\"\n",
    "SWB2_grid_dimensions        = \"346_by_400\"\n",
    "SWB2_path                   = \"../swb2\"\n",
    "\n",
    "SWB2_start_year      = \"2012\"\n",
    "SWB2_stop_year       = \"2013\"\n",
    "SWB2_start_date      = \"2012-01-01\"\n",
    "SWB2_stop_date       = \"2013-12-31\"\n",
    "\n",
    "SWB2_file_prefix     = \"central_sands_\"\n",
    "Simulation_length_in_years = 2.0\n",
    "\n",
    "SWB_param_name             = \"RECHARGE\"\n",
    "SWB_path                   = \"../swb1/output/annual\"\n",
    "\n",
    "SWB_start_year      = \"2012\"\n",
    "SWB_stop_year       = \"2013\"\n",
    "\n",
    "Plot_title_param           = \"Net infiltration\"\n",
    "Plot_title_units           = \", in Inches\""
   ]
  },
  {
   "cell_type": "markdown",
   "metadata": {},
   "source": [
    "### Open and read model output files ###"
   ]
  },
  {
   "cell_type": "code",
   "execution_count": 3,
   "metadata": {
    "scrolled": false
   },
   "outputs": [
    {
     "name": "stdout",
     "output_type": "stream",
     "text": [
      "Could not open SWB data grid\n"
     ]
    },
    {
     "ename": "SystemExit",
     "evalue": "1",
     "output_type": "error",
     "traceback": [
      "An exception has occurred, use %tb to see the full traceback.\n",
      "\u001b[1;31mSystemExit\u001b[0m\u001b[1;31m:\u001b[0m 1\n"
     ]
    },
    {
     "name": "stderr",
     "output_type": "stream",
     "text": [
      "C:\\Users\\smwesten\\AppData\\Local\\Continuum\\miniconda3\\envs\\py37\\lib\\site-packages\\IPython\\core\\interactiveshell.py:3304: UserWarning: To exit: use 'exit', 'quit', or Ctrl-D.\n",
      "  warn(\"To exit: use 'exit', 'quit', or Ctrl-D.\", stacklevel=1)\n"
     ]
    }
   ],
   "source": [
    "# Define the pathname to the SWB2 output file. \n",
    "fname_swb2 = os.path.join( SWB2_path, \"output\", SWB2_file_prefix + SWB2_param_name + '__'\n",
    "                     + SWB2_start_date \n",
    "                     + '_to_' + SWB2_stop_date\n",
    "                     + '__' + SWB2_grid_dimensions + '.nc' )\n",
    "dataset_swb2 = netcdf_dataset( fname_swb2 )\n",
    "if dataset_swb2 is None:\n",
    "    print('Could not open SWB 2.0 NetCDF grid file')\n",
    "    sys.exit(1)\n",
    "\n",
    "yearcount = 0\n",
    "SWB_values = None\n",
    "    \n",
    "for year in range(int(SWB_start_year), int(SWB_stop_year) + 1):\n",
    "    yearcount += 1\n",
    "    # Define pathname to the SWB output file\n",
    "    fname_swb = os.path.join( SWB_path, 'swb__' + SWB_param_name + '_'\n",
    "                     + str( year )\n",
    "                     + '_SUM.asc' )\n",
    "    dataset_swb = gdal.Open( fname_swb )\n",
    "    if dataset_swb is None:\n",
    "        print('Could not open SWB data grid')\n",
    "        os.sys.exit(1)\n",
    "    \n",
    "    if SWB_values is None:\n",
    "        # the SWB output comes in as an Arc ASCII grid, with \"-9999\" values denoting the\n",
    "        # areas of inactive model domain; as with the previous grid, must deal with these\n",
    "        # before doing any further analysis. numpy \"masked array\" does what we need.\n",
    "        SWB_values = dataset_swb.ReadAsArray()\n",
    "        SWB_values = ma.masked_where( SWB_values < 0, SWB_values )\n",
    "    else:\n",
    "        tempvals = dataset_swb.ReadAsArray()\n",
    "        tempvals = ma.masked_where( tempvals < 0, tempvals )\n",
    "        SWB_values += tempvals\n",
    "\n",
    "SWB_values /= float( yearcount )\n",
    "\n",
    "# Define the pathname to the landuse Arc ASCII file output by SWB\n",
    "fname_lu = os.path.join(SWB2_path, 'output', 'Landuse_land_cover__as_read_into_SWB.asc' )\n",
    "dataset_lu = gdal.Open( fname_lu )\n",
    "if dataset_lu is None:\n",
    "    print('Could not open landuse grid')\n",
    "    quit\n",
    "    \n",
    "# Define the pathname to the SWB landuse lookup table\n",
    "fname_lu_table = os.path.join(SWB2_path, 'std_input', 'Landuse_lookup_CDL.txt' )    \n",
    "lu_table = pd.read_table( fname_lu_table )    "
   ]
  },
  {
   "cell_type": "markdown",
   "metadata": {},
   "source": [
    "## Plots and Comparisons ##\n",
    "### Plot of Soil-Water-Balance Model output ###"
   ]
  },
  {
   "cell_type": "code",
   "execution_count": null,
   "metadata": {
    "scrolled": false
   },
   "outputs": [],
   "source": [
    "SWB2_values = dataset_swb2.variables[ SWB2_param_name ][:, :, :]\n",
    "# the netCDF values come in with not-a-number (NaN) values in the inactive cells;\n",
    "# need to deal with these NaNs before doing any processing\n",
    "SWB2_values = ma.masked_where( np.isnan(SWB2_values), SWB2_values ) \n",
    "\n",
    "# sum daily model outputs over the time dimension (axis \"0\")\n",
    "SWB2_values = SWB2_values.sum(axis=0) / Simulation_length_in_years\n",
    "\n",
    "x = dataset_swb2.variables['x'][:]\n",
    "y = dataset_swb2.variables['y'][:]\n",
    "\n",
    "make_plot(x=x, y=y, var=SWB2_values, \n",
    "          title=\"SWB 2.0 Mean Annual \" + Plot_title_param + \" (\" \n",
    "          + SWB2_start_year + \"-\" + SWB2_stop_year + \" )\",\n",
    "          barlabel=Plot_title_param + Plot_title_units, minz=0., maxz=20. )"
   ]
  },
  {
   "cell_type": "markdown",
   "metadata": {},
   "source": [
    "### Plot of SWB 1.0 Model output ###"
   ]
  },
  {
   "cell_type": "code",
   "execution_count": null,
   "metadata": {
    "scrolled": false
   },
   "outputs": [],
   "source": [
    "make_plot(x=x, y=y, var=SWB_values,\n",
    "          title=\"SWB 1.0 Mean Annual \" + Plot_title_param + \" (\" \n",
    "          + SWB_start_year + \"-\" + SWB_stop_year + \" )\",\n",
    "          barlabel=Plot_title_param + Plot_title_units, minz=0., maxz=20. )"
   ]
  },
  {
   "cell_type": "markdown",
   "metadata": {},
   "source": [
    "### Plot of differences: SWB 2.0 output minus SWB 1.0 output ###"
   ]
  },
  {
   "cell_type": "code",
   "execution_count": null,
   "metadata": {
    "scrolled": false
   },
   "outputs": [],
   "source": [
    "diff = SWB2_values - SWB_values\n",
    "make_diffplot(x=x, y=y, var=diff,\n",
    "          title=\"SWB2 minus SWB\",\n",
    "          barlabel=Plot_title_param + \", absolute difference in inches\",\n",
    "          minz=-2., maxz=2.)"
   ]
  },
  {
   "cell_type": "markdown",
   "metadata": {},
   "source": [
    "### Plot of SWB 2.0 and SWB 1.0 model outputs ###"
   ]
  },
  {
   "cell_type": "code",
   "execution_count": null,
   "metadata": {
    "scrolled": false
   },
   "outputs": [],
   "source": [
    "lu = dataset_lu.ReadAsArray()\n",
    "lu = ma.masked_where( lu <= 0, lu )\n",
    "lu_vals = np.unique( lu.flatten() ).data\n",
    "lu_labels = lu_vals.tolist()\n",
    "N=len(lu_labels)\n",
    "lu.ravel"
   ]
  },
  {
   "cell_type": "code",
   "execution_count": null,
   "metadata": {
    "scrolled": false
   },
   "outputs": [],
   "source": [
    "make_scatter(x=SWB2_values.data.flatten(), y=SWB_values.data.flatten(), color=lu.data.flatten(),\n",
    "             title=Plot_title_param + \": SWB 2.0 versus SWB 1.0\", xlab=\"Soil Water Balance 2.0\",\n",
    "             ylab=\"Soil Water Balance 1.0\", barlabel='Land-use code',\n",
    "             xmin=10, ymin=10, xmax=30, ymax=30, cmap=discrete_cmap(N,'gist_rainbow'))"
   ]
  },
  {
   "cell_type": "markdown",
   "metadata": {},
   "source": [
    "_Comments:_ The color coding above corresponds to the landuse code from the LU_code field in the landuse lookup table. Linear strings of points that do not fall on the 1:1 slope line appear to be caused by mismatches in grid cell coverage and resolution in the various input files."
   ]
  },
  {
   "cell_type": "markdown",
   "metadata": {},
   "source": [
    "### Plot of landuse as read in by SWB ###"
   ]
  },
  {
   "cell_type": "code",
   "execution_count": null,
   "metadata": {
    "scrolled": false
   },
   "outputs": [],
   "source": [
    "cmap = discrete_cmap(N, \"nipy_spectral\")\n",
    "make_plot(x=x, y=y, var=lu,\n",
    "          title=\"Landuse grid as read into SWB 2.0\",\n",
    "          barlabel=\"Landuse ID number\",\n",
    "          cmap=cmap)"
   ]
  },
  {
   "cell_type": "markdown",
   "metadata": {},
   "source": [
    "### Table of model differences by landuse code ###"
   ]
  },
  {
   "cell_type": "code",
   "execution_count": null,
   "metadata": {
    "scrolled": false
   },
   "outputs": [],
   "source": [
    "np.unique(lu)\n",
    "lu_descriptions=lu_table['Description']\n",
    "lu_lookup_values=lu_table['LU_Code']\n",
    "df = make_comparison_table( x=SWB2_values, y=SWB_values, factor=lu, \n",
    "                            description=lu_descriptions,\n",
    "                            lookup_vals=lu_lookup_values,\n",
    "                            xlab='SWB 2.0', ylab='SWB 1.0')"
   ]
  },
  {
   "cell_type": "code",
   "execution_count": null,
   "metadata": {
    "scrolled": false
   },
   "outputs": [],
   "source": [
    "display_pandas_df(df)"
   ]
  },
  {
   "cell_type": "code",
   "execution_count": null,
   "metadata": {},
   "outputs": [],
   "source": []
  }
 ],
 "metadata": {
  "anaconda-cloud": {},
  "kernelspec": {
   "display_name": "Python 3",
   "language": "python",
   "name": "python3"
  },
  "language_info": {
   "codemirror_mode": {
    "name": "ipython",
    "version": 3
   },
   "file_extension": ".py",
   "mimetype": "text/x-python",
   "name": "python",
   "nbconvert_exporter": "python",
   "pygments_lexer": "ipython3",
   "version": "3.7.3"
  }
 },
 "nbformat": 4,
 "nbformat_minor": 2
}
